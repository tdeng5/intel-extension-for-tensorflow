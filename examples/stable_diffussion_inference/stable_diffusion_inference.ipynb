{
 "cells": [
  {
   "cell_type": "markdown",
   "id": "6b9e466e",
   "metadata": {},
   "source": [
    "<font size=\"5\"> **Stable Diffusion Inference for Text2Image on Intel GPU** </font> \n",
    "<br>\n",
    "This code sample will perform stable diffusion inference based on the text prompt using KerasCV implementation while using Intel® Extension for Tensorflow*. We optimized official keras-cv Stable Diffusion, eg, concatenate two forward pass, combine computation in loops to reduce op number, add fp16 mode for model. The following run cases are executed:<br>\n",
    "* FP32 (baseline) <br>\n",
    "* Enable FP16 precision for faster inference <br>\n",
    "\n",
    "<font size=\"5\">**Environment Setup**</font>  <br>\n",
    "Ensure the env_itex kernel is activated before running this notebook."
   ]
  },
  {
   "cell_type": "code",
   "execution_count": null,
   "id": "ae0a9d25",
   "metadata": {},
   "outputs": [],
   "source": [
    "import time\n",
    "from keras_cv.models.stable_diffusion import StableDiffusion\n",
    "from tensorflow import keras\n",
    "import matplotlib.pyplot as plt\n",
    "import tensorflow as tf\n",
    "import numpy as np"
   ]
  },
  {
   "cell_type": "markdown",
   "id": "425fe3ef-804b-42e4-bee3-f2058330f7d7",
   "metadata": {},
   "source": [
    "<font size =\"5\">**Helper Functions**</font>\n",
    "\n",
    "The functions below will help us plot the images."
   ]
  },
  {
   "cell_type": "code",
   "execution_count": null,
   "id": "166ea0ad",
   "metadata": {},
   "outputs": [],
   "source": [
    "def plot_images(images):\n",
    "    png_name = \"{}_{}imgs_{}steps.png\".format(\n",
    "        precision, batch_size, num_steps)\n",
    "    \n",
    "    print(\"Start plotting the generated images to %s\" % (png_name))\n",
    "    plt.figure(figsize=(20, 20))\n",
    "    for i in range(len(images)):\n",
    "        ax = plt.subplot(1, len(images), i + 1)\n",
    "        plt.imshow(images[i])\n",
    "        plt.axis(\"off\")"
   ]
  },
  {
   "cell_type": "markdown",
   "id": "2af220a7",
   "metadata": {},
   "source": [
    "<font size =\"5\">**Model Loading**</font> <br>\n",
    "First, we construct a model and also define few of the required parameters:</font>"
   ]
  },
  {
   "cell_type": "code",
   "execution_count": null,
   "id": "fb67cef1",
   "metadata": {},
   "outputs": [],
   "source": [
    "iterations = 2\n",
    "use_xla = False\n",
    "precision = 'fp32'\n",
    "batch_size = 1\n",
    "num_steps = 50\n",
    "seed= 12345\n",
    "benchmark_result = []\n",
    "\n",
    "model = StableDiffusion(\n",
    "    img_width=512,\n",
    "    img_height=512,\n",
    "    jit_compile=use_xla,\n",
    "    precision=precision,\n",
    ")"
   ]
  },
  {
   "cell_type": "markdown",
   "id": "d2c260c0",
   "metadata": {},
   "source": [
    "<font size =\"5\">**Running Inference** </font> <br>\n",
    "Next, we give it a prompt:"
   ]
  },
  {
   "cell_type": "code",
   "execution_count": null,
   "id": "962f9e6e",
   "metadata": {},
   "outputs": [],
   "source": [
    "prompt = \"a photo of an astronaut riding a horse on mars\"\n",
    "\n",
    "print(\"Start Warmup\")\n",
    "model.text_to_image(\n",
    "    \"warming up the model\", batch_size=batch_size, num_steps=num_steps\n",
    ")\n",
    "# Start inference\n",
    "print(\"Start running inference and generating images\")\n",
    "t = 0\n",
    "for i in range(iterations):\n",
    "    start_time = time.time()\n",
    "    images = model.text_to_image(prompt=prompt, batch_size=batch_size, seed=seed)\n",
    "    t+=(time.time() - start_time)\n",
    "print(f\"FP32 precision: {(t/iterations):.2f} seconds\")\n",
    "benchmark_result.append([\"FP32 precision\", t/iterations])\n",
    "plot_images(images)"
   ]
  },
  {
   "cell_type": "markdown",
   "id": "724c14ad",
   "metadata": {},
   "source": [
    "<font size=\"4\">**Performance computation using float16 precision** </font>\n",
    "<br>\n",
    "We optimized official keras-cv Stable Diffusion to add fp16 mode for model.</font>"
   ]
  },
  {
   "cell_type": "code",
   "execution_count": null,
   "id": "2f566ea8",
   "metadata": {},
   "outputs": [],
   "source": [
    "precision = 'fp16'\n",
    "\n",
    "model = StableDiffusion(\n",
    "    img_width=512,\n",
    "    img_height=512,\n",
    "    jit_compile=use_xla,\n",
    "    precision=precision,\n",
    ")\n",
    "\n",
    "print(\"Start Warmup\")\n",
    "model.text_to_image(\n",
    "    \"warming up the model\", batch_size=batch_size, num_steps=num_steps\n",
    ")\n",
    "# Start inference\n",
    "print(\"Start running inference and generating images\")\n",
    "t = 0\n",
    "for i in range(iterations):\n",
    "    start_time = time.time()\n",
    "    images = model.text_to_image(prompt=prompt, batch_size=batch_size, seed=seed)\n",
    "    t+=(time.time() - start_time)\n",
    "    \n",
    "print(f\"FP16 precision: {(t/iterations):.2f} seconds\")\n",
    "benchmark_result.append([\"FP16 precision\", t/iterations])\n",
    "plot_images(images)"
   ]
  },
  {
   "cell_type": "markdown",
   "id": "bc3e0a04-1189-480b-8905-39d600b8b0da",
   "metadata": {},
   "source": [
    "<font size =\"5\">**Performance comparison** <br></font>\n",
    "Lets compare the results wrt inference latency time."
   ]
  },
  {
   "cell_type": "code",
   "execution_count": null,
   "id": "0803d9b5",
   "metadata": {},
   "outputs": [],
   "source": [
    "print(\"{:<20} {:<20}\".format(\"Model\", \"Runtime\"))\n",
    "for result in benchmark_result:\n",
    "    name, runtime = result\n",
    "    print(\"{:<20} {:<20}\".format(name, runtime))"
   ]
  },
  {
   "cell_type": "code",
   "execution_count": null,
   "id": "59a3e2ac",
   "metadata": {},
   "outputs": [],
   "source": [
    "import matplotlib.pyplot as plt\n",
    "\n",
    "# Create bar chart with training time results\n",
    "plt.figure(figsize=(4,3))\n",
    "plt.title(\"Stable diffusion Inference Time\")\n",
    "plt.ylabel(\"Inference Time (seconds)\")\n",
    "plt.bar([\"FP32\", \"FP16\"], [benchmark_result[0][1], benchmark_result[1][1]])"
   ]
  },
  {
   "cell_type": "code",
   "execution_count": null,
   "id": "44ba310e",
   "metadata": {},
   "outputs": [],
   "source": [
    "print('[CODE_SAMPLE_COMPLETED_SUCCESFULLY]')"
   ]
  }
 ],
 "metadata": {
  "kernelspec": {
   "display_name": "kerascv-patch",
   "language": "python",
   "name": "kerascv-patch"
  },
  "language_info": {
   "codemirror_mode": {
    "name": "ipython",
    "version": 3
   },
   "file_extension": ".py",
   "mimetype": "text/x-python",
   "name": "python",
   "nbconvert_exporter": "python",
   "pygments_lexer": "ipython3",
   "version": "3.9.15"
  }
 },
 "nbformat": 4,
 "nbformat_minor": 5
}
